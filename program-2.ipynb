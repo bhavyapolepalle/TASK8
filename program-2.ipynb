{
 "cells": [
  {
   "cell_type": "code",
   "execution_count": 2,
   "metadata": {},
   "outputs": [
    {
     "name": "stdout",
     "output_type": "stream",
     "text": [
      "Areas of circles: [314.1, 788394.1410000001, 1520.244, 4300.029, 31410.0, 3134721.141, 23774.229, 386974.341]\n"
     ]
    }
   ],
   "source": [
    "class Circle:\n",
    "   \n",
    "    __pi = 3.141\n",
    "\n",
    "    def __init__(self, radius_list):\n",
    "        self.radius_list = radius_list\n",
    "\n",
    "    def calculate_area(self):\n",
    "        areas = []\n",
    "        for radius in self.radius_list:\n",
    "            area = Circle.__pi * (radius ** 2)\n",
    "            areas.append(area)\n",
    "        return areas\n",
    "radius_list = [10, 501, 22, 37, 100, 999, 87, 351]\n",
    "circle = Circle(radius_list)\n",
    "areas = circle.calculate_area()\n",
    "print(\"Areas of circles:\", areas)"
   ]
  }
 ],
 "metadata": {
  "kernelspec": {
   "display_name": "Python 3",
   "language": "python",
   "name": "python3"
  },
  "language_info": {
   "codemirror_mode": {
    "name": "ipython",
    "version": 3
   },
   "file_extension": ".py",
   "mimetype": "text/x-python",
   "name": "python",
   "nbconvert_exporter": "python",
   "pygments_lexer": "ipython3",
   "version": "3.12.2"
  }
 },
 "nbformat": 4,
 "nbformat_minor": 2
}
