{
 "cells": [
  {
   "cell_type": "code",
   "execution_count": 1,
   "metadata": {},
   "outputs": [
    {
     "name": "stdout",
     "output_type": "stream",
     "text": [
      "For radius 10: Area = 314.1, Perimeter = 62.82\n",
      "For radius 501: Area = 788394.1410000001, Perimeter = 3147.282\n",
      "For radius 22: Area = 1520.244, Perimeter = 138.204\n",
      "For radius 37: Area = 4300.029, Perimeter = 232.434\n",
      "For radius 100: Area = 31410.0, Perimeter = 628.2\n",
      "For radius 999: Area = 3134721.141, Perimeter = 6275.718\n",
      "For radius 87: Area = 23774.229, Perimeter = 546.534\n",
      "For radius 351: Area = 386974.341, Perimeter = 2204.982\n"
     ]
    }
   ],
   "source": [
    "class Circle:\n",
    "    # Private class variable\n",
    "    __pi = 3.141\n",
    "\n",
    "    def __init__(self, radius_list):\n",
    "        self.radius_list = radius_list\n",
    "\n",
    "    @classmethod\n",
    "    def area(cls, radius):\n",
    "        return cls.__pi * (radius ** 2)\n",
    "\n",
    "    @classmethod\n",
    "    def perimeter(cls, radius):\n",
    "        return 2 * cls.__pi * radius\n",
    "\n",
    "\n",
    "radius_list = [10, 501, 22, 37, 100, 999, 87, 351]\n",
    "\n",
    "for radius in radius_list:\n",
    "    area = Circle.area(radius)\n",
    "    perimeter = Circle.perimeter(radius)\n",
    "    print(f\"For radius {radius}: Area = {area}, Perimeter = {perimeter}\")"
   ]
  }
 ],
 "metadata": {
  "kernelspec": {
   "display_name": "Python 3",
   "language": "python",
   "name": "python3"
  },
  "language_info": {
   "codemirror_mode": {
    "name": "ipython",
    "version": 3
   },
   "file_extension": ".py",
   "mimetype": "text/x-python",
   "name": "python",
   "nbconvert_exporter": "python",
   "pygments_lexer": "ipython3",
   "version": "3.12.2"
  }
 },
 "nbformat": 4,
 "nbformat_minor": 2
}
