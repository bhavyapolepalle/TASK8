{
 "cells": [
  {
   "cell_type": "code",
   "execution_count": 1,
   "metadata": {},
   "outputs": [
    {
     "name": "stdout",
     "output_type": "stream",
     "text": [
      "Sony at channel 1, volume 50\n",
      "Brand: Sony, Screen Thickness: 0.5, Energy Usage: Medium, Lifespan: 5 years, Refresh Rate: 120Hz\n",
      "Samsung at channel 1, volume 50\n",
      "Brand: Samsung, Screen Thickness: 0.7, Energy Usage: High, Lifespan: 7 years, Refresh Rate: 60Hz\n"
     ]
    }
   ],
   "source": [
    "class TV:\n",
    "    def __init__(self, brand):\n",
    "        self.brand = brand\n",
    "        self.channel = 1\n",
    "        self.price = None\n",
    "        self.inches = None\n",
    "        self.on = False\n",
    "        self.volume = 50\n",
    "\n",
    "    def increase_volume(self):\n",
    "        if self.volume < 100:\n",
    "            self.volume += 1\n",
    "\n",
    "    def decrease_volume(self):\n",
    "        if self.volume > 0:\n",
    "            self.volume -= 1\n",
    "\n",
    "    def set_channel(self, channel):\n",
    "        if 1 <= channel <= 50:\n",
    "            self.channel = channel\n",
    "\n",
    "    def reset(self):\n",
    "        self.channel = 1\n",
    "        self.volume = 50\n",
    "\n",
    "    def status(self):\n",
    "        return f\"{self.brand} at channel {self.channel}, volume {self.volume}\"\n",
    "\n",
    "\n",
    "class LedTV(TV):\n",
    "    def __init__(self, brand, screen_thickness, energy_usage, lifespan, refresh_rate):\n",
    "        super().__init__(brand)\n",
    "        self.screen_thickness = screen_thickness\n",
    "        self.energy_usage = energy_usage\n",
    "        self.lifespan = lifespan\n",
    "        self.refresh_rate = refresh_rate\n",
    "\n",
    "    def display_details(self):\n",
    "        return f\"Brand: {self.brand}, Screen Thickness: {self.screen_thickness}, Energy Usage: {self.energy_usage}, Lifespan: {self.lifespan}, Refresh Rate: {self.refresh_rate}\"\n",
    "\n",
    "\n",
    "class PlasmaTV(TV):\n",
    "    def __init__(self, brand, screen_thickness, energy_usage, lifespan, refresh_rate):\n",
    "        super().__init__(brand)\n",
    "        self.screen_thickness = screen_thickness\n",
    "        self.energy_usage = energy_usage\n",
    "        self.lifespan = lifespan\n",
    "        self.refresh_rate = refresh_rate\n",
    "\n",
    "    def display_details(self):\n",
    "        return f\"Brand: {self.brand}, Screen Thickness: {self.screen_thickness}, Energy Usage: {self.energy_usage}, Lifespan: {self.lifespan}, Refresh Rate: {self.refresh_rate}\"\n",
    "led_tv = LedTV(\"Sony\", 0.5, \"Medium\", \"5 years\", \"120Hz\")\n",
    "print(led_tv.status())\n",
    "print(led_tv.display_details())\n",
    "\n",
    "plasma_tv = PlasmaTV(\"Samsung\", 0.7, \"High\", \"7 years\", \"60Hz\")\n",
    "print(plasma_tv.status())\n",
    "print(plasma_tv.display_details())"
   ]
  }
 ],
 "metadata": {
  "kernelspec": {
   "display_name": "Python 3",
   "language": "python",
   "name": "python3"
  },
  "language_info": {
   "codemirror_mode": {
    "name": "ipython",
    "version": 3
   },
   "file_extension": ".py",
   "mimetype": "text/x-python",
   "name": "python",
   "nbconvert_exporter": "python",
   "pygments_lexer": "ipython3",
   "version": "3.12.2"
  }
 },
 "nbformat": 4,
 "nbformat_minor": 2
}
